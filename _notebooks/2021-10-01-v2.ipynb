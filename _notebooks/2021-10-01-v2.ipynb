{
 "cells": [
  {
   "cell_type": "markdown",
   "id": "d14aaada",
   "metadata": {},
   "source": [
    "# asdfsad\n",
    "> asdfasdfdfadfsdfsdfadsf.\n",
    "\n",
    "- toc: true \n",
    "- badges: true\n",
    "- comments: true\n",
    "- categories: [jupyter]\n",
    "- use_plotly: true\n"
   ]
  },
  {
   "cell_type": "code",
   "execution_count": 1,
   "id": "3103647d",
   "metadata": {},
   "outputs": [],
   "source": [
    "import pandas as pd\n",
    "from IPython.display import HTML\n",
    "#import plotly as py\n",
    "#import plotly.graph_objects as go\n",
    "import plotly.express as px\n",
    "death = pd.read_csv('https://raw.githubusercontent.com/rfordatascience/tidytuesday/master/data/2018/2018-11-13/malaria_deaths.csv')\n",
    "death.rename(columns={death.columns[3]: \"death\"}, errors='raise', inplace=True)\n",
    "# print(death.head())\n",
    "\n",
    "fig = px.choropleth(\n",
    "    death,\n",
    "    locations=\"Code\",\n",
    "    color=\"death\",  # lifeExp is a column of gapminder\n",
    "    hover_name=\"Entity\",  # column to add to hover information\n",
    "    color_continuous_scale=px.colors.sequential.amp,\n",
    "\n",
    "    animation_frame=\"Year\",\n",
    ")\n",
    "#fig.show()\n",
    "\n",
    "HTML(fig.to_html())\n"
   ]
  }
 ],
 "metadata": {
  "kernelspec": {
   "display_name": "Python 3",
   "language": "python",
   "name": "python3"
  },
  "language_info": {
   "codemirror_mode": {
    "name": "ipython",
    "version": 3
   },
   "file_extension": ".py",
   "mimetype": "text/x-python",
   "name": "python",
   "nbconvert_exporter": "python",
   "pygments_lexer": "ipython3",
   "version": "3.8.8"
  }
 },
 "nbformat": 4,
 "nbformat_minor": 5
}
